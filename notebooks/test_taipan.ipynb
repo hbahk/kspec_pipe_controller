{
 "cells": [
  {
   "cell_type": "code",
   "execution_count": 12,
   "metadata": {},
   "outputs": [],
   "source": [
    "import os\n",
    "os.environ['PATH'] = '/data1/hbahk/kspec/2dfdr_dev/2dfdr8/2dfdr_install/bin:' + os.environ['PATH']\n",
    "os.environ[\"DRCONTROL_DIR\"] = \"/data1/hbahk/kspec/2dfdr_dev/2dfdr8/2dfdr_install/share/2dfdr\"\n",
    "from twodfdr.io import Tdfio\n",
    "from twodfdr import args, config\n",
    "from twodfdr.methods import make_tlm\n",
    "from pathlib import Path\n",
    "\n",
    "WD = Path('/data1/hbahk/kspec/')\n",
    "TAIPAN_DIR = WD / 'taipansample'\n",
    "\n",
    "# export PATH=\"/data1/hbahk/kspec/2dfdr_dev/2dfdr8/2dfdr_install/bin:$PATH\"\n",
    "# env setting\n",
    "ccd1_dir = TAIPAN_DIR/\"/FirstTestSet/2021Feb08/ccd_1\"\n",
    "flatfile = ccd1_dir/\"08feb10093.fits\"\n"
   ]
  },
  {
   "cell_type": "code",
   "execution_count": null,
   "metadata": {},
   "outputs": [],
   "source": []
  }
 ],
 "metadata": {
  "kernelspec": {
   "display_name": "Python 3",
   "language": "python",
   "name": "python3"
  },
  "language_info": {
   "codemirror_mode": {
    "name": "ipython",
    "version": 3
   },
   "file_extension": ".py",
   "mimetype": "text/x-python",
   "name": "python",
   "nbconvert_exporter": "python",
   "pygments_lexer": "ipython3",
   "version": "3.12.10"
  }
 },
 "nbformat": 4,
 "nbformat_minor": 2
}
